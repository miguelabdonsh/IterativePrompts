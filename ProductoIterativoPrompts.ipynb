{
 "cells": [
  {
   "cell_type": "markdown",
   "metadata": {},
   "source": [
    "# Desarrollo rápido iterativo\n",
    "En esta lección, analizará y refinará iterativamente sus indicaciones para generar una copia de marketing a partir de una hoja de datos del producto.\n",
    "\n",
    "## Configuración"
   ]
  },
  {
   "cell_type": "code",
   "execution_count": 1,
   "metadata": {},
   "outputs": [],
   "source": [
    "import openai\n",
    "openai.api_key=\"Aqui va tu API KEY\""
   ]
  },
  {
   "cell_type": "code",
   "execution_count": 2,
   "metadata": {},
   "outputs": [],
   "source": [
    "def get_completion(prompt, model=\"gpt-3.5-turbo\"):\n",
    "    messages = [{\"role\": \"user\", \"content\": prompt}]\n",
    "    response = openai.ChatCompletion.create(\n",
    "        model=model,\n",
    "        messages=messages,\n",
    "        temperature=0, # this is the degree of randomness of the model's output\n",
    "    )\n",
    "    return response.choices[0].message[\"content\"]"
   ]
  },
  {
   "cell_type": "markdown",
   "metadata": {},
   "source": [
    "## Genere una descripción de producto de marketing a partir de una ficha técnica del producto"
   ]
  },
  {
   "cell_type": "code",
   "execution_count": 3,
   "metadata": {},
   "outputs": [],
   "source": [
    "ficha_tecnica=\"\"\"\n",
    "DESCRIPCIÓN GENERAL\n",
    "- Parte de una hermosa familia de muebles de oficina inspirados en mediados de siglo,\n",
    "incluyendo archivadores, escritorios, estanterías, mesas de reuniones y más.\n",
    "- Varias opciones de color de carcasa y acabados de base.\n",
    "- Disponible con respaldo de plástico y tapizado frontal (SWC-100)\n",
    "o tapizado completo (SWC-110) en 10 opciones de tela y 6 de cuero.\n",
    "- Las opciones de acabado de la base son: acero inoxidable, negro mate,\n",
    "blanco brillo o cromo.\n",
    "- La silla está disponible con o sin reposabrazos.\n",
    "- Adecuado para entornos domésticos o comerciales.\n",
    "- Cualificado para uso por contrato.\n",
    "\n",
    "CONSTRUCCIÓN\n",
    "- Base de aluminio plastificado de 5 ruedas.\n",
    "- Ajuste neumático del sillón para subir/bajar fácilmente.\n",
    "\n",
    "DIMENSIONES\n",
    "- ANCHO 53 CM | 20.87”\n",
    "- PROFUNDIDAD 51 CM | 20.08”\n",
    "- ALTURA 80 CM | 31.50”\n",
    "- ALTURA DEL ASIENTO 44 CM | 17,32”\n",
    "- PROFUNDIDAD DEL ASIENTO 41 CM | 16,14\"\n",
    "\n",
    "OPCIONES\n",
    "- Opciones de ruedas para piso blando o duro.\n",
    "- Dos opciones de densidades de espuma de asiento:\n",
    "  medio (1,8 lb/ft3) o alto (2,8 lb/ft3)\n",
    "- Reposabrazos sin brazos o de PU de 8 posiciones\n",
    "\n",
    "MATERIALES\n",
    "PLANEADOR CON BASE DE CARCASA\n",
    "- Fundición de aluminio con recubrimiento de nylon PA6/PA66 modificado.\n",
    "- Grosor de la carcasa: 10 mm.\n",
    "ASIENTO\n",
    "- espuma HD36\n",
    "\n",
    "PAÍS DE ORIGEN\n",
    "- Italia\n",
    "\"\"\""
   ]
  },
  {
   "cell_type": "code",
   "execution_count": 4,
   "metadata": {},
   "outputs": [
    {
     "name": "stdout",
     "output_type": "stream",
     "text": [
      "Introduciendo nuestra nueva silla de oficina inspirada en mediados de siglo, parte de una hermosa familia de muebles de oficina. Nuestra silla de oficina ofrece una combinación perfecta de estilo y funcionalidad para cualquier entorno doméstico o comercial. \n",
      "\n",
      "Con varias opciones de color de carcasa y acabados de base, puede personalizar su silla para que se adapte a su estilo y preferencias. Elija entre opciones de respaldo de plástico y tapizado frontal o tapizado completo en una amplia gama de opciones de tela y cuero. Además, puede seleccionar entre acabados de base de acero inoxidable, negro mate, blanco brillo o cromo.\n",
      "\n",
      "La silla está diseñada para brindar comodidad y durabilidad. Cuenta con una base de aluminio plastificado de 5 ruedas para una mayor estabilidad y movilidad. El ajuste neumático del sillón le permite subir y bajar fácilmente para encontrar la altura perfecta.\n",
      "\n",
      "Las dimensiones de la silla son las siguientes: ancho de 53 cm, profundidad de 51 cm, altura de 80 cm, altura del asiento de 44 cm y profundidad del asiento de 41 cm.\n",
      "\n",
      "Ofrecemos varias opciones adicionales para personalizar su silla. Puede elegir entre ruedas para piso blando o duro, dos opciones de densidades de espuma de asiento (medio o alto) y reposabrazos sin brazos o de PU de 8 posiciones.\n",
      "\n",
      "La silla está construida con materiales de alta calidad. La base de la carcasa está hecha de fundición de aluminio con recubrimiento de nylon PA6/PA66 modificado, mientras que el asiento cuenta con espuma HD36.\n",
      "\n",
      "Nuestra silla de oficina es de origen italiano, lo que garantiza su calidad y estilo excepcionales.\n",
      "\n",
      "Ya sea que esté buscando una silla para su hogar o su lugar de trabajo, nuestra silla de oficina es la elección perfecta. Con su diseño elegante y opciones de personalización, seguramente se convertirá en el centro de atención de cualquier espacio.\n"
     ]
    }
   ],
   "source": [
    "prompt = f\"\"\"\n",
    "Su tarea es ayudar a un equipo de marketing a crear un\n",
    "descripción para un sitio web minorista de un producto basado\n",
    "en una ficha técnica.\n",
    "\n",
    "Escriba una descripción del producto basada en la información.\n",
    "previsto en las especificaciones técnicas delimitadas por\n",
    "triples tildes.\n",
    "\n",
    "Especificaciones técnicas: ```{ficha_tecnica}```\n",
    "\"\"\"\n",
    "response = get_completion(prompt)\n",
    "print(response)"
   ]
  },
  {
   "cell_type": "markdown",
   "metadata": {},
   "source": [
    "## El texto es demasiado largo, hay que limitar el numero de palabras/frases/caracteres."
   ]
  },
  {
   "cell_type": "code",
   "execution_count": 6,
   "metadata": {},
   "outputs": [
    {
     "name": "stdout",
     "output_type": "stream",
     "text": [
      "Introduciendo la silla de oficina inspirada en mediados de siglo, parte de una hermosa familia de muebles. Disponible en una variedad de colores y acabados, con opciones de respaldo y tapizado. La base de aluminio plastificado de 5 ruedas permite un fácil ajuste de altura. Perfecta para entornos domésticos o comerciales. Calidad italiana.\n"
     ]
    }
   ],
   "source": [
    "prompt = f\"\"\"\n",
    "Su tarea es ayudar a un equipo de marketing a crear un\n",
    "descripción para un sitio web minorista de un producto basado\n",
    "en una ficha técnica.\n",
    "\n",
    "Escriba una descripción del producto basada en la información.\n",
    "previsto en las especificaciones técnicas delimitadas por\n",
    "triples tildes.\n",
    "\n",
    "Utilice como máximo 50 palabras.\n",
    "\n",
    "Especificaciones técnicas: ```{ficha_tecnica}```\n",
    "\"\"\"\n",
    "response = get_completion(prompt)\n",
    "print(response)\n"
   ]
  },
  {
   "cell_type": "code",
   "execution_count": 7,
   "metadata": {},
   "outputs": [
    {
     "data": {
      "text/plain": [
       "340"
      ]
     },
     "execution_count": 7,
     "metadata": {},
     "output_type": "execute_result"
    }
   ],
   "source": [
    "len(response)"
   ]
  },
  {
   "cell_type": "markdown",
   "metadata": {},
   "source": [
    "## El texto se enfoca en los detalles incorrectos"
   ]
  },
  {
   "cell_type": "code",
   "execution_count": 8,
   "metadata": {},
   "outputs": [
    {
     "name": "stdout",
     "output_type": "stream",
     "text": [
      "La silla de oficina de la familia de muebles de mediados de siglo es una opción elegante y versátil para cualquier entorno doméstico o comercial. Con una base de aluminio plastificado de 5 ruedas y ajuste neumático, es fácil de mover y ajustar. Disponible en una variedad de colores y acabados de base, así como opciones de respaldo y tapizado. La silla está construida con una carcasa de fundición de aluminio con recubrimiento de nylon y un asiento de espuma HD36. Fabricada en Italia.\n"
     ]
    }
   ],
   "source": [
    "prompt = f\"\"\"\n",
    "Su tarea es ayudar a un equipo de marketing a crear un\n",
    "descripción para un sitio web minorista de un producto basado\n",
    "en una ficha técnica.\n",
    "\n",
    "Escriba una descripción del producto basada en la información.\n",
    "previsto en las especificaciones técnicas delimitadas por\n",
    "triples tildes.\n",
    "\n",
    "La descripción está destinada a minoristas de muebles,\n",
    "por lo que debe ser de naturaleza técnica y centrarse en la\n",
    "materiales con los que está construido el producto.\n",
    "\n",
    "Utilice como máximo 50 palabras.\n",
    "\n",
    "Especificaciones técnicas: ```{ficha_tecnica}```\n",
    "\"\"\"\n",
    "response = get_completion(prompt)\n",
    "print(response)"
   ]
  },
  {
   "cell_type": "code",
   "execution_count": 9,
   "metadata": {},
   "outputs": [
    {
     "name": "stdout",
     "output_type": "stream",
     "text": [
      "El sillón SWC-100 es parte de una hermosa familia de muebles de oficina inspirados en mediados de siglo. Con varias opciones de color de carcasa y acabados de base, este sillón está disponible con respaldo de plástico y tapizado frontal en 10 opciones de tela y 6 de cuero. La base de aluminio plastificado de 5 ruedas y el ajuste neumático del sillón permiten una fácil subida y bajada. Con dimensiones de 53 cm de ancho, 51 cm de profundidad y 80 cm de altura, este sillón es adecuado para entornos domésticos o comerciales. La carcasa está hecha de fundición de aluminio con recubrimiento de nylon PA6/PA66 modificado, con un grosor de 10 mm. El asiento está hecho de espuma HD36. Fabricado en Italia.\n",
      "\n",
      "Identificación del producto: SWC-100\n"
     ]
    }
   ],
   "source": [
    "prompt = f\"\"\"\n",
    "Su tarea es ayudar a un equipo de marketing a crear un\n",
    "descripción para un sitio web minorista de un producto basado\n",
    "en una ficha técnica.\n",
    "\n",
    "Escriba una descripción del producto basada en la información.\n",
    "previsto en las especificaciones técnicas delimitadas por\n",
    "triples tildes.\n",
    "\n",
    "La descripción está destinada a minoristas de muebles,\n",
    "por lo que debe ser de naturaleza técnica y centrarse en la\n",
    "materiales con los que está construido el producto.\n",
    "\n",
    "Al final de la descripción, incluya cada 7 caracteres\n",
    "Identificación del producto en la especificación técnica.\n",
    "\n",
    "Utilice como máximo 50 palabras.\n",
    "\n",
    "Especificaciones técnicas: ```{ficha_tecnica}```\n",
    "\"\"\"\n",
    "response = get_completion(prompt)\n",
    "print(response)"
   ]
  },
  {
   "cell_type": "markdown",
   "metadata": {},
   "source": [
    "## Extraer información y organizar en una tabla."
   ]
  },
  {
   "cell_type": "code",
   "execution_count": 10,
   "metadata": {},
   "outputs": [
    {
     "name": "stdout",
     "output_type": "stream",
     "text": [
      "<div>\n",
      "  <h2>Descripción del producto</h2>\n",
      "  <p>El Planeador con Base de Carcasa es parte de una hermosa familia de muebles de oficina inspirados en mediados de siglo. Esta línea incluye archivadores, escritorios, estanterías, mesas de reuniones y más. El Planeador está disponible en varias opciones de color de carcasa y acabados de base, lo que le permite adaptarse a cualquier estilo de decoración. Puede elegir entre respaldo de plástico y tapizado frontal o tapizado completo en una amplia gama de opciones de tela y cuero. Además, puede seleccionar el acabado de la base entre acero inoxidable, negro mate, blanco brillo o cromo. La silla también está disponible con o sin reposabrazos, brindándole aún más opciones de personalización. Este producto es adecuado tanto para entornos domésticos como comerciales y está cualificado para uso por contrato.</p>\n",
      "  <p>La construcción del Planeador con Base de Carcasa es de alta calidad. Cuenta con una base de aluminio plastificado de 5 ruedas, lo que garantiza una excelente estabilidad y movilidad. Además, el sillón tiene un ajuste neumático que le permite subir o bajar fácilmente la altura según sus necesidades.</p>\n",
      "  <h2>Dimensiones del producto</h2>\n",
      "  <table>\n",
      "    <tr>\n",
      "      <th>Dimensión</th>\n",
      "      <th>Medida (pulgadas)</th>\n",
      "    </tr>\n",
      "    <tr>\n",
      "      <td>Ancho</td>\n",
      "      <td>20.87\"</td>\n",
      "    </tr>\n",
      "    <tr>\n",
      "      <td>Profundidad</td>\n",
      "      <td>20.08\"</td>\n",
      "    </tr>\n",
      "    <tr>\n",
      "      <td>Altura</td>\n",
      "      <td>31.50\"</td>\n",
      "    </tr>\n",
      "    <tr>\n",
      "      <td>Altura del asiento</td>\n",
      "      <td>17.32\"</td>\n",
      "    </tr>\n",
      "    <tr>\n",
      "      <td>Profundidad del asiento</td>\n",
      "      <td>16.14\"</td>\n",
      "    </tr>\n",
      "  </table>\n",
      "</div>\n",
      "\n",
      "Identificación del producto: SWC-100\n"
     ]
    }
   ],
   "source": [
    "prompt = f\"\"\"\n",
    "Su tarea es ayudar a un equipo de marketing a crear un\n",
    "descripción para un sitio web minorista de un producto basado\n",
    "en una ficha técnica.\n",
    "\n",
    "Escriba una descripción del producto basada en la información.\n",
    "previsto en las especificaciones técnicas delimitadas por\n",
    "triples tildes.\n",
    "\n",
    "La descripción está destinada a minoristas de muebles,\n",
    "por lo que debe ser de naturaleza técnica y centrarse en la\n",
    "materiales con los que está construido el producto.\n",
    "\n",
    "Al final de la descripción, incluya cada 7 caracteres\n",
    "Identificación del producto en la especificación técnica.\n",
    "\n",
    "Después de la descripción, incluya una tabla que dé la\n",
    "dimensiones del producto. La tabla debe tener dos columnas.\n",
    "En la primera columna incluya el nombre de la dimensión.\n",
    "En la segunda columna incluya las medidas en pulgadas únicamente.\n",
    "\n",
    "Asigne a la tabla el título 'Dimensiones del producto'.\n",
    "\n",
    "Formatee todo como HTML que se pueda usar en un sitio web.\n",
    "Coloque la descripción en un elemento <div>.\n",
    "\n",
    "Especificaciones técnicas: ```{ficha_tecnica}```\n",
    "\"\"\"\n",
    "\n",
    "response = get_completion(prompt)\n",
    "print(response)"
   ]
  },
  {
   "cell_type": "markdown",
   "metadata": {},
   "source": [
    "## Cargar bibliotecas de Python para ver HTML"
   ]
  },
  {
   "cell_type": "code",
   "execution_count": 11,
   "metadata": {},
   "outputs": [
    {
     "data": {
      "text/html": [
       "<div>\n",
       "  <h2>Descripción del producto</h2>\n",
       "  <p>El Planeador con Base de Carcasa es parte de una hermosa familia de muebles de oficina inspirados en mediados de siglo. Esta línea incluye archivadores, escritorios, estanterías, mesas de reuniones y más. El Planeador está disponible en varias opciones de color de carcasa y acabados de base, lo que le permite adaptarse a cualquier estilo de decoración. Puede elegir entre respaldo de plástico y tapizado frontal o tapizado completo en una amplia gama de opciones de tela y cuero. Además, puede seleccionar el acabado de la base entre acero inoxidable, negro mate, blanco brillo o cromo. La silla también está disponible con o sin reposabrazos, brindándole aún más opciones de personalización. Este producto es adecuado tanto para entornos domésticos como comerciales y está cualificado para uso por contrato.</p>\n",
       "  <p>La construcción del Planeador con Base de Carcasa es de alta calidad. Cuenta con una base de aluminio plastificado de 5 ruedas, lo que garantiza una excelente estabilidad y movilidad. Además, el sillón tiene un ajuste neumático que le permite subir o bajar fácilmente la altura según sus necesidades.</p>\n",
       "  <h2>Dimensiones del producto</h2>\n",
       "  <table>\n",
       "    <tr>\n",
       "      <th>Dimensión</th>\n",
       "      <th>Medida (pulgadas)</th>\n",
       "    </tr>\n",
       "    <tr>\n",
       "      <td>Ancho</td>\n",
       "      <td>20.87\"</td>\n",
       "    </tr>\n",
       "    <tr>\n",
       "      <td>Profundidad</td>\n",
       "      <td>20.08\"</td>\n",
       "    </tr>\n",
       "    <tr>\n",
       "      <td>Altura</td>\n",
       "      <td>31.50\"</td>\n",
       "    </tr>\n",
       "    <tr>\n",
       "      <td>Altura del asiento</td>\n",
       "      <td>17.32\"</td>\n",
       "    </tr>\n",
       "    <tr>\n",
       "      <td>Profundidad del asiento</td>\n",
       "      <td>16.14\"</td>\n",
       "    </tr>\n",
       "  </table>\n",
       "</div>\n",
       "\n",
       "Identificación del producto: SWC-100"
      ],
      "text/plain": [
       "<IPython.core.display.HTML object>"
      ]
     },
     "metadata": {},
     "output_type": "display_data"
    }
   ],
   "source": [
    "from IPython.display import display, HTML\n",
    "\n",
    "display(HTML(response))"
   ]
  }
 ],
 "metadata": {
  "kernelspec": {
   "display_name": "Python 3",
   "language": "python",
   "name": "python3"
  },
  "language_info": {
   "codemirror_mode": {
    "name": "ipython",
    "version": 3
   },
   "file_extension": ".py",
   "mimetype": "text/x-python",
   "name": "python",
   "nbconvert_exporter": "python",
   "pygments_lexer": "ipython3",
   "version": "3.9.13"
  },
  "orig_nbformat": 4
 },
 "nbformat": 4,
 "nbformat_minor": 2
}
